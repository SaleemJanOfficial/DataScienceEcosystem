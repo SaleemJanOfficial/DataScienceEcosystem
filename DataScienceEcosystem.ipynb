{
  "metadata": {
    "language_info": {
      "codemirror_mode": {
        "name": "python",
        "version": 3
      },
      "file_extension": ".py",
      "mimetype": "text/x-python",
      "name": "python",
      "nbconvert_exporter": "python",
      "pygments_lexer": "ipython3",
      "version": "3.8"
    },
    "kernelspec": {
      "name": "python",
      "display_name": "Python (Pyodide)",
      "language": "python"
    }
  },
  "nbformat_minor": 4,
  "nbformat": 4,
  "cells": [
    {
      "cell_type": "markdown",
      "source": " <h1> Data Science Tools and Ecosystem </h1>",
      "metadata": {}
    },
    {
      "cell_type": "markdown",
      "source": "In this notebook, Data Science Tools and Ecosystem are summarized.",
      "metadata": {}
    },
    {
      "cell_type": "markdown",
      "source": "Some of the popular languages that Data Scientists use are: <ol> <li> Python </li> <li> R </li> <li> SQL </li>  </ol>",
      "metadata": {}
    },
    {
      "cell_type": "markdown",
      "source": "Some of the commonly used libraries used by Data Scientists include: <ol> <li> Pandas </li> <li> Numpy </li> <li> PyTorch </li> </ol>",
      "metadata": {}
    },
    {
      "cell_type": "markdown",
      "source": "<table border=\"1px\"><th> Data Science Tools</th>\n<tr>\n<td>R Studio </td>\n</tr>\n<tr>\n <td>TensorFlow </td>\n</tr>\n<tr>\n <td> AppachiSpark </td> \n</tr> </table>",
      "metadata": {}
    },
    {
      "cell_type": "markdown",
      "source": "<u>Below are a few examples of evaluating arithmetic expressions in Python </u>",
      "metadata": {}
    },
    {
      "cell_type": "code",
      "source": "# This is a simple arithmetic expression to multiply and then add integers.\nresult = (3 * 4) + 5\nresult\n\n",
      "metadata": {
        "trusted": true
      },
      "execution_count": 1,
      "outputs": [
        {
          "execution_count": 1,
          "output_type": "execute_result",
          "data": {
            "text/plain": "17"
          },
          "metadata": {}
        }
      ]
    },
    {
      "cell_type": "code",
      "source": "#This will convert 200 minutes to hours by diving by 60\nprint(200/60)",
      "metadata": {
        "trusted": true
      },
      "execution_count": 2,
      "outputs": [
        {
          "name": "stdout",
          "text": "3.3333333333333335\n",
          "output_type": "stream"
        }
      ]
    },
    {
      "cell_type": "markdown",
      "source": "List popular languages for Data Science\n<ul> <li>Python </li> <li>R </li> <li>SQL </li> </ul>",
      "metadata": {}
    },
    {
      "cell_type": "markdown",
      "source": "<h2> Author </h2> Saleem Jan",
      "metadata": {}
    },
    {
      "cell_type": "code",
      "source": "",
      "metadata": {},
      "execution_count": null,
      "outputs": []
    }
  ]
}